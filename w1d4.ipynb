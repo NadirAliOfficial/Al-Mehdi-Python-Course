{
 "cells": [
  {
   "cell_type": "code",
   "execution_count": 3,
   "metadata": {},
   "outputs": [
    {
     "name": "stdout",
     "output_type": "stream",
     "text": [
      "The number is zero.\n"
     ]
    }
   ],
   "source": [
    "# Day 4: Conditional Statements and Loops\n",
    "num = int(input(\"Enter a number: \"))\n",
    "\n",
    "if num > 0:\n",
    "    print(\"The number is positive.\")\n",
    "elif num < 0:\n",
    "    print(\"The number is negative.\")\n",
    "else:\n",
    "    print(\"The number is zero.\")"
   ]
  },
  {
   "cell_type": "code",
   "execution_count": 12,
   "metadata": {},
   "outputs": [
    {
     "name": "stdout",
     "output_type": "stream",
     "text": [
      "The number 333 is Odd.\n"
     ]
    }
   ],
   "source": [
    "#  Checks if a number is Even or Odd\n",
    "num = int(input(\"Enter a number: \"))\n",
    "if num % 2 == 0: \n",
    "    print(f\"The number { num } is Even.\")\n",
    "else:\n",
    "    print(f\"The number {num} is Odd.\")"
   ]
  },
  {
   "cell_type": "code",
   "execution_count": null,
   "metadata": {},
   "outputs": [
    {
     "name": "stdout",
     "output_type": "stream",
     "text": [
      "You are eligible for a 20% discount!\n"
     ]
    }
   ],
   "source": [
    "# Nested If Statement\n",
    "age = int(input(\"Enter your age: \"))\n",
    "membership_status = input(\"Are you a member (yes/no)? \").lower()\n",
    "if age >= 18:\n",
    "    if membership_status == 'yes':\n",
    "        print(\"You are eligible for a 20% discount!\")\n",
    "    else:\n",
    "        print(\"You are eligible for a 10% discount!\")\n",
    "else:\n",
    "    if membership_status == 'yes':\n",
    "        print(\"You are eligible for a 15% discount!\")\n",
    "    else:\n",
    "        print(\"You are eligible for a 5% discount!\")"
   ]
  },
  {
   "cell_type": "code",
   "execution_count": 25,
   "metadata": {},
   "outputs": [
    {
     "name": "stdout",
     "output_type": "stream",
     "text": [
      "The number is positive.\n"
     ]
    }
   ],
   "source": [
    "\n",
    "number = int(input(\"Enter a number: \"))\n",
    "if number > 0:\n",
    "    print(\"The number is positive.\")\n",
    "elif number == 0:\n",
    "    print(\"The number is zero.\")\n",
    "\n",
    "else:\n",
    "    print(\"The number is negative.\")"
   ]
  },
  {
   "cell_type": "code",
   "execution_count": 28,
   "metadata": {},
   "outputs": [
    {
     "name": "stdout",
     "output_type": "stream",
     "text": [
      "1\n",
      "2\n",
      "3\n"
     ]
    }
   ],
   "source": [
    "# While Loop\n",
    "# Write a Python program that prints the numbers from 1 to 10 using a while loop.\n",
    "\n",
    "i = 1 \n",
    "while i <=3:\n",
    "    print(i)\n",
    "    i +=1"
   ]
  },
  {
   "cell_type": "code",
   "execution_count": 29,
   "metadata": {},
   "outputs": [
    {
     "name": "stdout",
     "output_type": "stream",
     "text": [
      "0\n",
      "1\n",
      "2\n",
      "3\n",
      "4\n",
      "5\n",
      "6\n",
      "7\n",
      "8\n",
      "9\n"
     ]
    }
   ],
   "source": [
    "# For Loop with Range (15 mins):\n",
    "# Write a Python program that prints the numbers from 1 to 10 using a for loop.\n",
    "# CTRL + / = COMMENT\n",
    "\n",
    "for i in range(10):\n",
    "    print(i)\n",
    "    "
   ]
  },
  {
   "cell_type": "code",
   "execution_count": null,
   "metadata": {},
   "outputs": [],
   "source": []
  }
 ],
 "metadata": {
  "kernelspec": {
   "display_name": "Python 3",
   "language": "python",
   "name": "python3"
  },
  "language_info": {
   "codemirror_mode": {
    "name": "ipython",
    "version": 3
   },
   "file_extension": ".py",
   "mimetype": "text/x-python",
   "name": "python",
   "nbconvert_exporter": "python",
   "pygments_lexer": "ipython3",
   "version": "3.13.3"
  }
 },
 "nbformat": 4,
 "nbformat_minor": 2
}
