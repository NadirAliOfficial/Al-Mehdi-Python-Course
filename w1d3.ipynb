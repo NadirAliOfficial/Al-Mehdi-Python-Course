{
 "cells": [
  {
   "cell_type": "code",
   "execution_count": 6,
   "id": "c994a1fd",
   "metadata": {},
   "outputs": [
    {
     "name": "stdout",
     "output_type": "stream",
     "text": [
      "Hello Nadir. You are 21 years old. \n"
     ]
    }
   ],
   "source": [
    "name = input(\"Enter your name: \")\n",
    "age = int(input(\"Enter your age: \"))\n",
    "\n",
    "# print('Hello', name, 'you are ', age  , 'years old' )\n",
    "# print('Hello' + name + ' You are ' + str(age) + ' Years Old')\n",
    "print(f\"Hello {name}. You are {age} years old. \")"
   ]
  },
  {
   "cell_type": "code",
   "execution_count": 8,
   "id": "495ec1a0",
   "metadata": {},
   "outputs": [
    {
     "name": "stdout",
     "output_type": "stream",
     "text": [
      "Hello, Nadir, \n",
      "Your Profession is Coder. \n",
      "And your funFact is Joker\n"
     ]
    }
   ],
   "source": [
    "name = input(\"Enter your name: \")\n",
    "prof = input(\"Enter your profession\")\n",
    "fun_fact = input('Enter your funfact: ')\n",
    "\n",
    "print(f\"Hello, {name}, \\nYour Profession is {prof}. \\nAnd your funFact is {fun_fact}\")\n"
   ]
  },
  {
   "cell_type": "code",
   "execution_count": null,
   "id": "4d764c6f",
   "metadata": {},
   "outputs": [],
   "source": [
    "# Write a Python program that asks the user for the radius of a circle and calculates\n",
    "# the area using the formula: Area = π * radius^2."
   ]
  },
  {
   "cell_type": "code",
   "execution_count": 5,
   "id": "ed4c8604",
   "metadata": {},
   "outputs": [
    {
     "name": "stdout",
     "output_type": "stream",
     "text": [
      "The Area of the Circle 616.0 \n"
     ]
    }
   ],
   "source": [
    "radius = int(input(\"Enter Radius of the Circle: \"))\n",
    "Area = (22/7) * radius **2\n",
    "print(f\"The Area of the Circle {Area} \")"
   ]
  },
  {
   "cell_type": "code",
   "execution_count": null,
   "id": "02c17421",
   "metadata": {},
   "outputs": [
    {
     "data": {
      "text/plain": [
       "12.56"
      ]
     },
     "execution_count": 4,
     "metadata": {},
     "output_type": "execute_result"
    }
   ],
   "source": [
    "2 **2 = 2 *2 = 4\n",
    "2 **3 = 2 * 2 * 2 = 8 \n",
    "2 ** 4 = 2 * 2 * 2 * 2 = 16"
   ]
  },
  {
   "cell_type": "code",
   "execution_count": 7,
   "id": "db27cf5f",
   "metadata": {},
   "outputs": [
    {
     "data": {
      "text/plain": [
       "(4, 8, 16)"
      ]
     },
     "execution_count": 7,
     "metadata": {},
     "output_type": "execute_result"
    }
   ],
   "source": [
    "2 **2, 2 **3, 2 ** 4"
   ]
  },
  {
   "cell_type": "code",
   "execution_count": 26,
   "id": "69233b13",
   "metadata": {},
   "outputs": [
    {
     "name": "stdout",
     "output_type": "stream",
     "text": [
      "Your BMI is 2.778\n",
      "You are Underwieght.\n"
     ]
    }
   ],
   "source": [
    "height = float(input('Enter your height in meters: '))\n",
    "weight = float(input('Enter your weight in kilograms: '))\n",
    "bmi = weight / (height ** 2)\n",
    "print(f'Your BMI is {bmi:.3f}')\n",
    "\n",
    "if bmi < 18.5:\n",
    "    print(\"You are Underwieght.\")\n",
    "elif bmi >= 18.5 and bmi <= 24.9:\n",
    "    print(\"You are Normal\")\n",
    "elif bmi >= 25 and bmi <= 29.9:\n",
    "    print(\"You are overwieght\")\n",
    "elif bmi >= 30 and bmi <= 34.9:\n",
    "    print(\"You are OBESE\")\n",
    "else:\n",
    "    print(\"You are EXTREME OBESE Please Run 10KM Daily.\")\n",
    "    "
   ]
  },
  {
   "cell_type": "code",
   "execution_count": 19,
   "id": "bffee4f6",
   "metadata": {},
   "outputs": [
    {
     "name": "stdout",
     "output_type": "stream",
     "text": [
      "Your Senetence: Today is MONday \n",
      "UPPERCASE: TODAY IS MONDAY \n",
      "lowercase: today is monday \n",
      "Title: Today Is Monday \n",
      "Capitalize: Today is monday \n"
     ]
    }
   ],
   "source": [
    "sentence = input(\"Enter a senetence: \")\n",
    "print(f\"Your Senetence: {sentence}\")\n",
    "print(f\"UPPERCASE: {sentence.upper()}\")\n",
    "print(f\"lowercase: {sentence.lower()}\")\n",
    "print(f\"Title: {sentence.title()}\")\n",
    "print(f\"Capitalize: {sentence.capitalize()}\")\n"
   ]
  },
  {
   "cell_type": "code",
   "execution_count": 25,
   "id": "ff025d0d",
   "metadata": {},
   "outputs": [
    {
     "name": "stdout",
     "output_type": "stream",
     "text": [
      "You are 13 years old.\n"
     ]
    }
   ],
   "source": [
    "age = input('Enter your age: ')\n",
    "if age.isdigit():\n",
    "    age = int(age)\n",
    "    print(f'You are {age} years old.')\n",
    "else:\n",
    "    print('Invalid input. Please enter a valid number.')"
   ]
  },
  {
   "cell_type": "code",
   "execution_count": null,
   "id": "dc3b844d",
   "metadata": {},
   "outputs": [],
   "source": []
  },
  {
   "cell_type": "code",
   "execution_count": null,
   "id": "38cfb719",
   "metadata": {},
   "outputs": [],
   "source": []
  }
 ],
 "metadata": {
  "kernelspec": {
   "display_name": "Python 3",
   "language": "python",
   "name": "python3"
  },
  "language_info": {
   "codemirror_mode": {
    "name": "ipython",
    "version": 3
   },
   "file_extension": ".py",
   "mimetype": "text/x-python",
   "name": "python",
   "nbconvert_exporter": "python",
   "pygments_lexer": "ipython3",
   "version": "3.10.0"
  }
 },
 "nbformat": 4,
 "nbformat_minor": 5
}
