{
 "cells": [
  {
   "cell_type": "markdown",
   "id": "02b28f17",
   "metadata": {},
   "source": [
    "<h1>Week 1 Day 2</h1>"
   ]
  },
  {
   "cell_type": "code",
   "execution_count": 1,
   "id": "515c7ae2",
   "metadata": {},
   "outputs": [
    {
     "name": "stdout",
     "output_type": "stream",
     "text": [
      "Hi, your age after adding 5 is :  20\n"
     ]
    }
   ],
   "source": [
    "age = int(input(\"Enter your age: \"))\n",
    "age = age + 5\n",
    "\n",
    "print(\"Hi, your age after adding 5 is : \", age)"
   ]
  },
  {
   "cell_type": "code",
   "execution_count": 2,
   "id": "d4622cb9",
   "metadata": {},
   "outputs": [
    {
     "name": "stdout",
     "output_type": "stream",
     "text": [
      "The sum of  12  and  2 is  14\n",
      "The diff of  12  and  2 is  10\n",
      "The product of  12  and  2 is  24\n",
      "The div of  12  and  2 is  6.0\n"
     ]
    }
   ],
   "source": [
    "num1 = int(input(\"Enter first number:\"))\n",
    "num2 = int(input(\"Enter second number:\"))\n",
    "\n",
    "sum = num1 + num2\n",
    "diff = num1 - num2\n",
    "product = num1 * num2 \n",
    "div = num1 / num2\n",
    "\n",
    "print(\"The sum of \", num1 , \" and \", num2, \"is \", sum)\n",
    "print(\"The diff of \", num1 , \" and \", num2, \"is \", diff)\n",
    "print(\"The product of \", num1 , \" and \", num2, \"is \", product)\n",
    "print(\"The div of \", num1 , \" and \", num2, \"is \", div)\n",
    "\n",
    "\n"
   ]
  },
  {
   "cell_type": "code",
   "execution_count": 3,
   "id": "4eb5565b",
   "metadata": {},
   "outputs": [
    {
     "name": "stdout",
     "output_type": "stream",
     "text": [
      "The Area of Shape is  210.0\n"
     ]
    }
   ],
   "source": [
    "width = float(input(\"Enter the Width: \"))\n",
    "height = float(input(\"Enter the height: \"))\n",
    "\n",
    "area = width * height\n",
    "print(f\"The Area of Shape is \", area)"
   ]
  },
  {
   "cell_type": "code",
   "execution_count": 4,
   "id": "4e4a5ae9",
   "metadata": {},
   "outputs": [
    {
     "name": "stdout",
     "output_type": "stream",
     "text": [
      "The Total Cost of the Products is 60.0 \n"
     ]
    }
   ],
   "source": [
    "price = float(input(\"Enter the product price: \"))\n",
    "qty = int(input(\"Enter the Qty: \"))\n",
    "\n",
    "total_cost = price * qty \n",
    "\n",
    "print(f\"The Total Cost of the Products is {total_cost} \")"
   ]
  },
  {
   "cell_type": "code",
   "execution_count": 13,
   "id": "ba3fa0d2",
   "metadata": {},
   "outputs": [],
   "source": [
    "price = float(input(\"Enter the product price: \")) \n",
    "qty = int(input(\"Enter the Qty: \")) \n",
    "discount = 0.01 \n",
    "subtotal = price * qty \n",
    "final_price = subtotal * (1 - discount)\n"
   ]
  },
  {
   "cell_type": "markdown",
   "id": "35a38c4f",
   "metadata": {},
   "source": []
  },
  {
   "cell_type": "code",
   "execution_count": 14,
   "id": "4ac37e24",
   "metadata": {},
   "outputs": [
    {
     "name": "stdout",
     "output_type": "stream",
     "text": [
      "The Total Cost after discount is 49.5\n"
     ]
    }
   ],
   "source": [
    "print(f\"The Total Cost after discount is {final_price}\")"
   ]
  },
  {
   "cell_type": "code",
   "execution_count": null,
   "id": "0d90dc63",
   "metadata": {},
   "outputs": [
    {
     "name": "stdout",
     "output_type": "stream",
     "text": [
      "9.0\n"
     ]
    }
   ],
   "source": [
    "num1 = float(input(\"Enter a number: \")) \n",
    "num2 = float(input(\"Enter a number: \")) \n",
    "\n",
    "sum = num1 + num2 \n",
    "length = 2\n",
    "\n",
    "avg = sum / length\n",
    "print(avg)\n"
   ]
  },
  {
   "cell_type": "code",
   "execution_count": 30,
   "id": "e11af242",
   "metadata": {},
   "outputs": [
    {
     "name": "stdout",
     "output_type": "stream",
     "text": [
      "Hello, Nadir. How are you? Wow you are 12 years old.\n"
     ]
    }
   ],
   "source": [
    "name = input(\"Enter your name: \")\n",
    "age = int(input(\"Enter your age : \"))\n",
    "\n",
    "print(f\"Hello, {name}. How are you? Wow you are {age} years old.\")"
   ]
  },
  {
   "cell_type": "code",
   "execution_count": 27,
   "id": "88d3d6b4",
   "metadata": {},
   "outputs": [],
   "source": [
    "qty = int(input(\"How much Solana do you want to buy?\"))\n"
   ]
  },
  {
   "cell_type": "code",
   "execution_count": 29,
   "id": "0abb8874",
   "metadata": {},
   "outputs": [
    {
     "name": "stdout",
     "output_type": "stream",
     "text": [
      "The Area is 180.0\n",
      "The Permimeter is 54.0\n"
     ]
    }
   ],
   "source": [
    "width = float(input(\"Enter the Width: \"))\n",
    "height = float(input(\"Enter the height: \"))\n",
    "area = width * height\n",
    "perimeter = 2 * (height + width)\n",
    "\n",
    "print(f\"The Area is {area}\")\n",
    "print(f\"The Permimeter is {perimeter}\")"
   ]
  },
  {
   "cell_type": "code",
   "execution_count": null,
   "id": "a38c599e",
   "metadata": {},
   "outputs": [
    {
     "name": "stdout",
     "output_type": "stream",
     "text": [
      "<class 'str'>\n"
     ]
    }
   ],
   "source": [
    "string = '123456'\n",
    "string2 = \"123\"\n",
    "print(type(string))\n",
    "print(type(string2))"
   ]
  },
  {
   "cell_type": "markdown",
   "id": "e6748512",
   "metadata": {},
   "source": []
  },
  {
   "cell_type": "markdown",
   "id": "47131f59",
   "metadata": {},
   "source": [
    "<h3>If a Number is Even or Odd</h3>"
   ]
  },
  {
   "cell_type": "code",
   "execution_count": 36,
   "id": "1f4d0cef",
   "metadata": {},
   "outputs": [
    {
     "name": "stdout",
     "output_type": "stream",
     "text": [
      "The Number is odd\n"
     ]
    }
   ],
   "source": [
    "num = int(input(\"Enter a number: \"))\n",
    "\n",
    "if num % 2 == 0:\n",
    "    print(\"The number is Even\")\n",
    "else:\n",
    "    print(\"The Number is odd\")\n",
    "    "
   ]
  },
  {
   "cell_type": "code",
   "execution_count": 40,
   "id": "fef8b7e8",
   "metadata": {},
   "outputs": [
    {
     "name": "stdout",
     "output_type": "stream",
     "text": [
      "You have entered. 4, 6, 8\n",
      "The Sum of three numbers is:  18\n",
      "The Product of three number is  192\n",
      "The divison of three numbers is  1.25\n"
     ]
    }
   ],
   "source": [
    "num1 = int(input(\"Enter num1: \")) #2\n",
    "num2 = int(input(\"Enter num2: \")) #5\n",
    "num3 = int(input(\"Enter num3: \")) #4\n",
    "\n",
    "sum = num1 + num2 + num3\n",
    "div = (num1 + num2) / num3 \n",
    "prod = num1 * num2 * num3 \n",
    "\n",
    "print(f\"You have entered. {num1}, {num2}, {num3}\")\n",
    "print(\"The Sum of three numbers is: \", sum)\n",
    "print(\"The Product of three number is \", prod)\n",
    "print(\"The divison of three numbers is \", div)"
   ]
  },
  {
   "cell_type": "code",
   "execution_count": 37,
   "id": "89c20186",
   "metadata": {},
   "outputs": [
    {
     "data": {
      "text/plain": [
       "1.75"
      ]
     },
     "execution_count": 37,
     "metadata": {},
     "output_type": "execute_result"
    }
   ],
   "source": [
    "7 / 4"
   ]
  },
  {
   "cell_type": "code",
   "execution_count": null,
   "id": "8388d9ca",
   "metadata": {},
   "outputs": [],
   "source": []
  },
  {
   "cell_type": "code",
   "execution_count": null,
   "id": "415ec4a5",
   "metadata": {},
   "outputs": [],
   "source": []
  }
 ],
 "metadata": {
  "kernelspec": {
   "display_name": "Python 3",
   "language": "python",
   "name": "python3"
  },
  "language_info": {
   "codemirror_mode": {
    "name": "ipython",
    "version": 3
   },
   "file_extension": ".py",
   "mimetype": "text/x-python",
   "name": "python",
   "nbconvert_exporter": "python",
   "pygments_lexer": "ipython3",
   "version": "3.10.0"
  }
 },
 "nbformat": 4,
 "nbformat_minor": 5
}
