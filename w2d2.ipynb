{
 "cells": [
  {
   "cell_type": "code",
   "execution_count": 2,
   "metadata": {},
   "outputs": [
    {
     "name": "stdout",
     "output_type": "stream",
     "text": [
      "Nadir is great! 1\n",
      "Nadir is great! 2\n",
      "Nadir is great! 3\n",
      "Nadir is great! 4\n",
      "Nadir is great! 5\n",
      "Nadir is great! 6\n",
      "Nadir is great! 7\n",
      "Nadir is great! 8\n",
      "Nadir is great! 9\n",
      "Nadir is great! 10\n"
     ]
    }
   ],
   "source": [
    "for nadir in range(1,11):\n",
    "    print(\"Nadir is great!\", nadir)"
   ]
  },
  {
   "cell_type": "code",
   "execution_count": 5,
   "metadata": {},
   "outputs": [
    {
     "name": "stdout",
     "output_type": "stream",
     "text": [
      "C\n",
      "r\n",
      "i\n",
      "c\n",
      "k\n",
      "e\n",
      "t\n"
     ]
    }
   ],
   "source": [
    "text = \"Cricket\"\n",
    "for char in text:\n",
    "    print(char)"
   ]
  },
  {
   "cell_type": "code",
   "execution_count": 8,
   "metadata": {},
   "outputs": [
    {
     "name": "stdout",
     "output_type": "stream",
     "text": [
      "1\n",
      "4\n",
      "7\n",
      "10\n",
      "13\n",
      "16\n",
      "19\n"
     ]
    }
   ],
   "source": [
    "for i in range(1,21, 3):\n",
    "    print(i)"
   ]
  },
  {
   "cell_type": "code",
   "execution_count": 9,
   "metadata": {},
   "outputs": [
    {
     "name": "stdout",
     "output_type": "stream",
     "text": [
      "Nadir\n",
      "Ihsan\n",
      "Janzeb\n",
      "Mehdi\n",
      "Salman\n"
     ]
    }
   ],
   "source": [
    "names = ['Nadir', \"Ihsan\", \"Janzeb\", \"Mehdi\", \"Salman\"]\n",
    "for name in names:\n",
    "    print(name)"
   ]
  },
  {
   "cell_type": "code",
   "execution_count": 12,
   "metadata": {},
   "outputs": [
    {
     "name": "stdout",
     "output_type": "stream",
     "text": [
      "Total sum: 64\n"
     ]
    }
   ],
   "source": [
    "numbers = [1,3,5,7,9,11,13,15]\n",
    "total = 0\n",
    "for num in numbers:\n",
    "    total += num\n",
    "print(f'Total sum: {total}')"
   ]
  },
  {
   "cell_type": "code",
   "execution_count": 13,
   "metadata": {},
   "outputs": [
    {
     "name": "stdout",
     "output_type": "stream",
     "text": [
      "1\t2\t3\t4\t5\t\n",
      "2\t4\t6\t8\t10\t\n",
      "3\t6\t9\t12\t15\t\n",
      "4\t8\t12\t16\t20\t\n",
      "5\t10\t15\t20\t25\t\n"
     ]
    }
   ],
   "source": [
    "for i in range(1, 6):\n",
    "    for j in range(1, 6):\n",
    "        print(i * j, end='\\t')\n",
    "    print()"
   ]
  },
  {
   "cell_type": "code",
   "execution_count": 18,
   "metadata": {},
   "outputs": [
    {
     "name": "stdout",
     "output_type": "stream",
     "text": [
      "1 x 297 = 297\n",
      "2 x 297 = 594\n",
      "3 x 297 = 891\n",
      "4 x 297 = 1188\n",
      "5 x 297 = 1485\n",
      "6 x 297 = 1782\n",
      "7 x 297 = 2079\n",
      "8 x 297 = 2376\n",
      "9 x 297 = 2673\n",
      "10 x 297 = 2970\n",
      "11 x 297 = 3267\n",
      "12 x 297 = 3564\n",
      "13 x 297 = 3861\n",
      "14 x 297 = 4158\n",
      "15 x 297 = 4455\n",
      "16 x 297 = 4752\n",
      "17 x 297 = 5049\n",
      "18 x 297 = 5346\n",
      "19 x 297 = 5643\n",
      "20 x 297 = 5940\n"
     ]
    }
   ],
   "source": [
    "for i in range(1,21):\n",
    "    print(f\"{i} x {297} = {i*297}\")"
   ]
  },
  {
   "cell_type": "code",
   "execution_count": null,
   "metadata": {},
   "outputs": [],
   "source": []
  }
 ],
 "metadata": {
  "kernelspec": {
   "display_name": "Python 3",
   "language": "python",
   "name": "python3"
  },
  "language_info": {
   "codemirror_mode": {
    "name": "ipython",
    "version": 3
   },
   "file_extension": ".py",
   "mimetype": "text/x-python",
   "name": "python",
   "nbconvert_exporter": "python",
   "pygments_lexer": "ipython3",
   "version": "3.13.3"
  }
 },
 "nbformat": 4,
 "nbformat_minor": 2
}
