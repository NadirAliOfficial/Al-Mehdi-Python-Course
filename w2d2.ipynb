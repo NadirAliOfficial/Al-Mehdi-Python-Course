{
 "cells": [
  {
   "cell_type": "code",
   "execution_count": 2,
   "metadata": {},
   "outputs": [
    {
     "name": "stdout",
     "output_type": "stream",
     "text": [
      "Nadir is great! 1\n",
      "Nadir is great! 2\n",
      "Nadir is great! 3\n",
      "Nadir is great! 4\n",
      "Nadir is great! 5\n",
      "Nadir is great! 6\n",
      "Nadir is great! 7\n",
      "Nadir is great! 8\n",
      "Nadir is great! 9\n",
      "Nadir is great! 10\n"
     ]
    }
   ],
   "source": [
    "for nadir in range(1,11):\n",
    "    print(\"Nadir is great!\", nadir)"
   ]
  },
  {
   "cell_type": "code",
   "execution_count": 5,
   "metadata": {},
   "outputs": [
    {
     "name": "stdout",
     "output_type": "stream",
     "text": [
      "C\n",
      "r\n",
      "i\n",
      "c\n",
      "k\n",
      "e\n",
      "t\n"
     ]
    }
   ],
   "source": [
    "text = \"Cricket\"\n",
    "for char in text:\n",
    "    print(char)"
   ]
  },
  {
   "cell_type": "code",
   "execution_count": 8,
   "metadata": {},
   "outputs": [
    {
     "name": "stdout",
     "output_type": "stream",
     "text": [
      "1\n",
      "4\n",
      "7\n",
      "10\n",
      "13\n",
      "16\n",
      "19\n"
     ]
    }
   ],
   "source": [
    "for i in range(1,21, 3):\n",
    "    print(i)"
   ]
  },
  {
   "cell_type": "code",
   "execution_count": 9,
   "metadata": {},
   "outputs": [
    {
     "name": "stdout",
     "output_type": "stream",
     "text": [
      "Nadir\n",
      "Ihsan\n",
      "Janzeb\n",
      "Mehdi\n",
      "Salman\n"
     ]
    }
   ],
   "source": [
    "names = ['Nadir', \"Ihsan\", \"Janzeb\", \"Mehdi\", \"Salman\"]\n",
    "for name in names:\n",
    "    print(name)"
   ]
  },
  {
   "cell_type": "code",
   "execution_count": 10,
   "metadata": {},
   "outputs": [
    {
     "name": "stdout",
     "output_type": "stream",
     "text": [
      "Total sum: 550\n"
     ]
    }
   ],
   "source": [
    "numbers = [10, 20, 30, 40, 50, 60, 70, 80, 90, 100]\n",
    "total = 0\n",
    "for num in numbers:\n",
    "    total += num\n",
    "print(f'Total sum: {total}')"
   ]
  },
  {
   "cell_type": "code",
   "execution_count": null,
   "metadata": {},
   "outputs": [],
   "source": []
  }
 ],
 "metadata": {
  "kernelspec": {
   "display_name": "Python 3",
   "language": "python",
   "name": "python3"
  },
  "language_info": {
   "codemirror_mode": {
    "name": "ipython",
    "version": 3
   },
   "file_extension": ".py",
   "mimetype": "text/x-python",
   "name": "python",
   "nbconvert_exporter": "python",
   "pygments_lexer": "ipython3",
   "version": "3.13.3"
  }
 },
 "nbformat": 4,
 "nbformat_minor": 2
}
