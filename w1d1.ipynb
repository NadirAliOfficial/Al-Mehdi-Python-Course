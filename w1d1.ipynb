{
 "cells": [
  {
   "cell_type": "code",
   "execution_count": 1,
   "id": "4537180c",
   "metadata": {},
   "outputs": [
    {
     "name": "stdout",
     "output_type": "stream",
     "text": [
      "My name is Nadir Ali Khan\n",
      "I am Pyhon Programmer\n",
      "I am 21 years Old.\n"
     ]
    }
   ],
   "source": [
    "print(\"My name is Nadir Ali Khan\")\n",
    "print(\"I am Pyhon Programmer\")\n",
    "print(\"I am 21 years Old.\")"
   ]
  },
  {
   "cell_type": "code",
   "execution_count": 7,
   "id": "17aa3ce6",
   "metadata": {},
   "outputs": [
    {
     "name": "stdout",
     "output_type": "stream",
     "text": [
      "Name:  Nadir Ali\n",
      "My Fav Number:  12\n",
      "Float:  4.1\n",
      "Food: Chicken Biryani\n"
     ]
    }
   ],
   "source": [
    "name = \"Nadir Ali\"\n",
    "my_fav_number = 12\n",
    "float = 4.1\n",
    "favorite_food = \"Chicken Biryani\"\n",
    "\n",
    "print(\"Name: \", name)\n",
    "print(\"My Fav Number: \", my_fav_number)\n",
    "print(\"Float: \", float)\n",
    "print(\"Food:\", favorite_food)"
   ]
  },
  {
   "cell_type": "code",
   "execution_count": 11,
   "id": "7bf8db24",
   "metadata": {},
   "outputs": [
    {
     "name": "stdout",
     "output_type": "stream",
     "text": [
      "Hello Nadir You are 21 years old\n"
     ]
    }
   ],
   "source": [
    "name = input(\"Enter your name: \")\n",
    "age = input(\"Enter your age: \")\n",
    "\n",
    "print(\"Hello \" + name + \" You are \" + age + \" years old\")"
   ]
  },
  {
   "cell_type": "code",
   "execution_count": null,
   "id": "f00fa4a2",
   "metadata": {},
   "outputs": [
    {
     "name": "stdout",
     "output_type": "stream",
     "text": [
      "Type of name is <class 'str'>\n"
     ]
    }
   ],
   "source": [
    "name = \"Ali Mehdi\"\n",
    "print(\"Type of name is\", type(name))"
   ]
  },
  {
   "cell_type": "code",
   "execution_count": 13,
   "id": "0c30fa7e",
   "metadata": {},
   "outputs": [
    {
     "name": "stdout",
     "output_type": "stream",
     "text": [
      "Type of number is:  <class 'int'>\n"
     ]
    }
   ],
   "source": [
    "number = 13\n",
    "print(\"Type of number is: \", type(number))"
   ]
  },
  {
   "cell_type": "code",
   "execution_count": 14,
   "id": "e18e849e",
   "metadata": {},
   "outputs": [
    {
     "name": "stdout",
     "output_type": "stream",
     "text": [
      "Type of decimal is:  <class 'float'>\n"
     ]
    }
   ],
   "source": [
    "decimal = 4.001\n",
    "print(\"Type of decimal is: \", type(decimal))"
   ]
  },
  {
   "cell_type": "code",
   "execution_count": null,
   "id": "2e113fda",
   "metadata": {},
   "outputs": [
    {
     "name": "stdout",
     "output_type": "stream",
     "text": [
      "-3\n"
     ]
    }
   ],
   "source": [
    "num1 = int(input(\"Enter num1: \"))\n",
    "num2 = int(input(\"Enter num2: \"))\n",
    "print(num1 + num2)\n",
    "\n"
   ]
  },
  {
   "cell_type": "code",
   "execution_count": null,
   "id": "b69ae1ad",
   "metadata": {},
   "outputs": [
    {
     "name": "stdout",
     "output_type": "stream",
     "text": [
      "70\n"
     ]
    }
   ],
   "source": [
    "num3 = int(input(\"enter num3\"))\n",
    ")num4 = int(input(\"enter num4\")\n",
    "print(num3 + num4)"
   ]
  },
  {
   "cell_type": "code",
   "execution_count": 22,
   "id": "897f0296",
   "metadata": {},
   "outputs": [
    {
     "name": "stdout",
     "output_type": "stream",
     "text": [
      "36\n"
     ]
    }
   ],
   "source": [
    "num5 = int(input(\"enter num5\"))\n",
    "num6 = int(input(\"enter num6\"))\n",
    "print(num5 * num6)"
   ]
  },
  {
   "cell_type": "code",
   "execution_count": 25,
   "id": "3c877e71",
   "metadata": {},
   "outputs": [
    {
     "name": "stdout",
     "output_type": "stream",
     "text": [
      "Hello Nadir You will turn in 100 After 88\n"
     ]
    }
   ],
   "source": [
    "name = input(\"Enter your name: \")\n",
    "age = int(input(\"Enter your age: \"))\n",
    "year_left = 100 - age \n",
    "\n",
    "print(\"Hello \" + name + \" You will turn in \" + str(100)+ \" After \" + str(year_left) )"
   ]
  },
  {
   "cell_type": "code",
   "execution_count": null,
   "id": "6dabd5f6",
   "metadata": {},
   "outputs": [
    {
     "data": {
      "text/plain": [
       "119"
      ]
     },
     "execution_count": 26,
     "metadata": {},
     "output_type": "execute_result"
    }
   ],
   "source": []
  },
  {
   "cell_type": "code",
   "execution_count": null,
   "id": "918d9705",
   "metadata": {},
   "outputs": [],
   "source": []
  }
 ],
 "metadata": {
  "kernelspec": {
   "display_name": "Python 3",
   "language": "python",
   "name": "python3"
  },
  "language_info": {
   "codemirror_mode": {
    "name": "ipython",
    "version": 3
   },
   "file_extension": ".py",
   "mimetype": "text/x-python",
   "name": "python",
   "nbconvert_exporter": "python",
   "pygments_lexer": "ipython3",
   "version": "3.10.0"
  }
 },
 "nbformat": 4,
 "nbformat_minor": 5
}
