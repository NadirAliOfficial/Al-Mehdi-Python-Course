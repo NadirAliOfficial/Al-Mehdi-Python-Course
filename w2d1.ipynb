{
 "cells": [
  {
   "cell_type": "code",
   "execution_count": null,
   "metadata": {},
   "outputs": [],
   "source": [
    "# Day 1: Loops – Introduction to While Loop\n",
    "counter = 0 \n",
    "while counter < 5:\n",
    "    print(\"Counter\", counter)\n",
    "    counter +=1"
   ]
  },
  {
   "cell_type": "code",
   "execution_count": null,
   "metadata": {},
   "outputs": [],
   "source": [
    "# Countdown timer from 10 to 0\n",
    "import time\n",
    "countdown = 20\n",
    "while countdown >=0:\n",
    "    print(countdown)\n",
    "    time.sleep(1)\n",
    "    countdown -=1\n",
    "print(\"Time is done.\")"
   ]
  },
  {
   "cell_type": "code",
   "execution_count": null,
   "metadata": {},
   "outputs": [],
   "source": [
    "# String concatenation\n",
    "print(\"1\"+ \"0\")"
   ]
  },
  {
   "cell_type": "code",
   "execution_count": null,
   "metadata": {},
   "outputs": [],
   "source": [
    "# Integer addition\n",
    "print(1 + 2)"
   ]
  },
  {
   "cell_type": "code",
   "execution_count": null,
   "metadata": {},
   "outputs": [],
   "source": [
    "print(\"A\"+\"B\")"
   ]
  },
  {
   "cell_type": "code",
   "execution_count": 14,
   "metadata": {},
   "outputs": [
    {
     "name": "stdout",
     "output_type": "stream",
     "text": [
      "10\n",
      "9\n",
      "8\n",
      "7\n",
      "6\n",
      "5\n",
      "4\n",
      "Loop ended.\n"
     ]
    }
   ],
   "source": [
    "# Break out of the loop\n",
    "from time import sleep\n",
    "num = 10\n",
    "while num >= 0:\n",
    "    if num < 4:\n",
    "        break\n",
    "    print(num)\n",
    "    sleep(1)\n",
    "    num -=1\n",
    "print(\"Loop ended.\")"
   ]
  },
  {
   "cell_type": "code",
   "execution_count": 8,
   "metadata": {},
   "outputs": [
    {
     "name": "stdout",
     "output_type": "stream",
     "text": [
      "1 second(s) passed...\n",
      "2 second(s) passed...\n",
      "3 second(s) passed...\n",
      "4 second(s) passed...\n",
      "5 second(s) passed...\n"
     ]
    }
   ],
   "source": [
    "counter = 0\n",
    "step = 17_000_000   # tuned down from 16M to reduce drift\n",
    "target = step * 5\n",
    "\n",
    "while counter < target:\n",
    "    counter += 1\n",
    "    if counter % step == 0:\n",
    "        print(f\"{counter // step} second(s) passed...\")\n"
   ]
  },
  {
   "cell_type": "code",
   "execution_count": 10,
   "metadata": {},
   "outputs": [
    {
     "name": "stdout",
     "output_type": "stream",
     "text": [
      "Nadir Ali 1\n",
      "Nadir Ali 2\n",
      "Nadir Ali 3\n",
      "Nadir Ali 4\n",
      "Nadir Ali 5\n"
     ]
    }
   ],
   "source": [
    "import time\n",
    "for i in range(1,6):\n",
    "    print(\"Nadir Ali\", i)\n",
    "    time.sleep(1)"
   ]
  },
  {
   "cell_type": "code",
   "execution_count": 11,
   "metadata": {},
   "outputs": [
    {
     "name": "stdout",
     "output_type": "stream",
     "text": [
      "You guessed correctly!\n"
     ]
    }
   ],
   "source": [
    "correct_answer = 7\n",
    "guess = -1\n",
    "while guess != correct_answer:\n",
    "    guess = int(input('Guess the number (1-10): '))\n",
    "print('You guessed correctly!')"
   ]
  },
  {
   "cell_type": "code",
   "execution_count": 15,
   "metadata": {},
   "outputs": [
    {
     "name": "stdout",
     "output_type": "stream",
     "text": [
      "Counter: 0\n",
      "Counter: 1\n",
      "Counter: 2\n",
      "Counter: 3\n",
      "Counter: 4\n",
      "Counter: 5\n"
     ]
    }
   ],
   "source": [
    "flag = True # Green flag\n",
    "counter = 0\n",
    "while flag:\n",
    "    print(f'Counter: {counter}')\n",
    "    counter += 1\n",
    "    time.sleep(1)\n",
    "    if counter > 5:\n",
    "        flag = False # Red flag"
   ]
  },
  {
   "cell_type": "code",
   "execution_count": 27,
   "metadata": {},
   "outputs": [
    {
     "name": "stdout",
     "output_type": "stream",
     "text": [
      "Counter: 10\n",
      "11\n",
      "Loop finished successfully!Hethi\n"
     ]
    }
   ],
   "source": [
    "counter = 10\n",
    "while counter ==10:\n",
    "    print(f'Counter: {counter}')\n",
    "    counter += 1\n",
    "    time.sleep(1)\n",
    "\n",
    "print(counter)\n",
    "if counter <=9:\n",
    "    print('Loop exited via condition.mathi') #1\n",
    "else:                           \n",
    "    print('Loop finished successfully!Hethi') #2"
   ]
  },
  {
   "cell_type": "code",
   "execution_count": 7,
   "metadata": {},
   "outputs": [
    {
     "name": "stdout",
     "output_type": "stream",
     "text": [
      "Incorrect guess. The Correct number was 5\n",
      "Wrong! You have 9 attempts left.\n",
      "Incorrect guess. The Correct number was 4\n",
      "Wrong! You have 8 attempts left.\n",
      "Incorrect guess. The Correct number was 8\n",
      "Wrong! You have 7 attempts left.\n",
      "Incorrect guess. The Correct number was 5\n",
      "Wrong! You have 6 attempts left.\n",
      "Incorrect guess. The Correct number was 3\n",
      "Wrong! You have 5 attempts left.\n",
      "Incorrect guess. The Correct number was 9\n",
      "Wrong! You have 4 attempts left.\n",
      "Incorrect guess. The Correct number was 9\n",
      "Wrong! You have 3 attempts left.\n",
      "Incorrect guess. The Correct number was 6\n",
      "Wrong! You have 2 attempts left.\n",
      "Incorrect guess. The Correct number was 4\n",
      "Wrong! You have 1 attempts left.\n",
      "Incorrect guess. The Correct number was 1\n",
      "Wrong! You have 0 attempts left.\n",
      "Sorry, the number was 1.\n"
     ]
    }
   ],
   "source": [
    "import random\n",
    "\n",
    "attempts = 10\n",
    "while attempts > 0:\n",
    "    target = random.randint(1, 10)\n",
    "    guess = int(input('Guess the number (1-10): '))\n",
    "    if guess == target:\n",
    "        print('Correct! You win!')\n",
    "        break\n",
    "    else:\n",
    "        print('Incorrect guess. The Correct number was', target) \n",
    "        print(f'Wrong! You have {attempts-1} attempts left.')\n",
    "        attempts -= 1\n",
    "else:\n",
    "    print(f'Sorry, the number was {target}.')"
   ]
  },
  {
   "cell_type": "code",
   "execution_count": null,
   "metadata": {},
   "outputs": [],
   "source": []
  }
 ],
 "metadata": {
  "kernelspec": {
   "display_name": "Python 3",
   "language": "python",
   "name": "python3"
  },
  "language_info": {
   "codemirror_mode": {
    "name": "ipython",
    "version": 3
   },
   "file_extension": ".py",
   "mimetype": "text/x-python",
   "name": "python",
   "nbconvert_exporter": "python",
   "pygments_lexer": "ipython3",
   "version": "3.13.3"
  }
 },
 "nbformat": 4,
 "nbformat_minor": 2
}
