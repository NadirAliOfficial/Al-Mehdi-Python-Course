{
 "cells": [
  {
   "cell_type": "code",
   "execution_count": null,
   "metadata": {},
   "outputs": [],
   "source": [
    "# Day 1: Loops – Introduction to While Loop\n",
    "counter = 0 \n",
    "while counter < 5:\n",
    "    print(\"Counter\", counter)\n",
    "    counter +=1"
   ]
  },
  {
   "cell_type": "code",
   "execution_count": null,
   "metadata": {},
   "outputs": [],
   "source": [
    "# Countdown timer from 10 to 0\n",
    "import time\n",
    "countdown = 20\n",
    "while countdown >=0:\n",
    "    print(countdown)\n",
    "    time.sleep(1)\n",
    "    countdown -=1\n",
    "print(\"Time is done.\")"
   ]
  },
  {
   "cell_type": "code",
   "execution_count": null,
   "metadata": {},
   "outputs": [],
   "source": [
    "# String concatenation\n",
    "print(\"1\"+ \"0\")"
   ]
  },
  {
   "cell_type": "code",
   "execution_count": null,
   "metadata": {},
   "outputs": [],
   "source": [
    "# Integer addition\n",
    "print(1 + 2)"
   ]
  },
  {
   "cell_type": "code",
   "execution_count": null,
   "metadata": {},
   "outputs": [],
   "source": [
    "print(\"A\"+\"B\")"
   ]
  },
  {
   "cell_type": "code",
   "execution_count": 14,
   "metadata": {},
   "outputs": [
    {
     "name": "stdout",
     "output_type": "stream",
     "text": [
      "10\n",
      "9\n",
      "8\n",
      "7\n",
      "6\n",
      "5\n",
      "4\n",
      "Loop ended.\n"
     ]
    }
   ],
   "source": [
    "# Break out of the loop\n",
    "from time import sleep\n",
    "num = 10\n",
    "while num >= 0:\n",
    "    if num < 4:\n",
    "        break\n",
    "    print(num)\n",
    "    sleep(1)\n",
    "    num -=1\n",
    "print(\"Loop ended.\")"
   ]
  },
  {
   "cell_type": "code",
   "execution_count": 8,
   "metadata": {},
   "outputs": [
    {
     "name": "stdout",
     "output_type": "stream",
     "text": [
      "1 second(s) passed...\n",
      "2 second(s) passed...\n",
      "3 second(s) passed...\n",
      "4 second(s) passed...\n",
      "5 second(s) passed...\n"
     ]
    }
   ],
   "source": [
    "counter = 0\n",
    "step = 17_000_000   # tuned down from 16M to reduce drift\n",
    "target = step * 5\n",
    "\n",
    "while counter < target:\n",
    "    counter += 1\n",
    "    if counter % step == 0:\n",
    "        print(f\"{counter // step} second(s) passed...\")\n"
   ]
  },
  {
   "cell_type": "code",
   "execution_count": 10,
   "metadata": {},
   "outputs": [
    {
     "name": "stdout",
     "output_type": "stream",
     "text": [
      "Nadir Ali 1\n",
      "Nadir Ali 2\n",
      "Nadir Ali 3\n",
      "Nadir Ali 4\n",
      "Nadir Ali 5\n"
     ]
    }
   ],
   "source": [
    "import time\n",
    "for i in range(1,6):\n",
    "    print(\"Nadir Ali\", i)\n",
    "    time.sleep(1)"
   ]
  },
  {
   "cell_type": "code",
   "execution_count": 11,
   "metadata": {},
   "outputs": [
    {
     "name": "stdout",
     "output_type": "stream",
     "text": [
      "You guessed correctly!\n"
     ]
    }
   ],
   "source": [
    "correct_answer = 7\n",
    "guess = -1\n",
    "while guess != correct_answer:\n",
    "    guess = int(input('Guess the number (1-10): '))\n",
    "print('You guessed correctly!')"
   ]
  },
  {
   "cell_type": "code",
   "execution_count": 15,
   "metadata": {},
   "outputs": [
    {
     "name": "stdout",
     "output_type": "stream",
     "text": [
      "Counter: 0\n",
      "Counter: 1\n",
      "Counter: 2\n",
      "Counter: 3\n",
      "Counter: 4\n",
      "Counter: 5\n"
     ]
    }
   ],
   "source": [
    "flag = True # Green flag\n",
    "counter = 0\n",
    "while flag:\n",
    "    print(f'Counter: {counter}')\n",
    "    counter += 1\n",
    "    time.sleep(1)\n",
    "    if counter > 5:\n",
    "        flag = False # Red flag"
   ]
  },
  {
   "cell_type": "code",
   "execution_count": null,
   "metadata": {},
   "outputs": [
    {
     "name": "stdout",
     "output_type": "stream",
     "text": [
      "Counter: 0\n",
      "Counter: 1\n",
      "Counter: 2\n",
      "Counter: 3\n",
      "Counter: 4\n",
      "Loop finished successfully!\n"
     ]
    }
   ],
   "source": [
    "counter = 0\n",
    "while counter < 5:\n",
    "    print(f'Counter: {counter}')\n",
    "    counter += 1\n",
    "    time.sleep(1)\n",
    "else:\n",
    "    print('Loop finished successfully!')"
   ]
  },
  {
   "cell_type": "code",
   "execution_count": null,
   "metadata": {},
   "outputs": [],
   "source": []
  }
 ],
 "metadata": {
  "kernelspec": {
   "display_name": "Python 3",
   "language": "python",
   "name": "python3"
  },
  "language_info": {
   "codemirror_mode": {
    "name": "ipython",
    "version": 3
   },
   "file_extension": ".py",
   "mimetype": "text/x-python",
   "name": "python",
   "nbconvert_exporter": "python",
   "pygments_lexer": "ipython3",
   "version": "3.13.3"
  }
 },
 "nbformat": 4,
 "nbformat_minor": 2
}
