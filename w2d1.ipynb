{
 "cells": [
  {
   "cell_type": "code",
   "execution_count": null,
   "metadata": {},
   "outputs": [],
   "source": [
    "# Day 1: Loops – Introduction to While Loop\n",
    "counter = 0 \n",
    "while counter < 5:\n",
    "    print(\"Counter\", counter)\n",
    "    counter +=1"
   ]
  },
  {
   "cell_type": "code",
   "execution_count": null,
   "metadata": {},
   "outputs": [],
   "source": [
    "# Countdown timer from 10 to 0\n",
    "import time\n",
    "countdown = 20\n",
    "while countdown >=0:\n",
    "    print(countdown)\n",
    "    time.sleep(1)\n",
    "    countdown -=1\n",
    "print(\"Time is done.\")"
   ]
  },
  {
   "cell_type": "code",
   "execution_count": null,
   "metadata": {},
   "outputs": [],
   "source": [
    "# String concatenation\n",
    "print(\"1\"+ \"0\")"
   ]
  },
  {
   "cell_type": "code",
   "execution_count": null,
   "metadata": {},
   "outputs": [],
   "source": [
    "# Integer addition\n",
    "print(1 + 2)"
   ]
  },
  {
   "cell_type": "code",
   "execution_count": null,
   "metadata": {},
   "outputs": [],
   "source": [
    "print(\"A\"+\"B\")"
   ]
  },
  {
   "cell_type": "code",
   "execution_count": 14,
   "metadata": {},
   "outputs": [
    {
     "name": "stdout",
     "output_type": "stream",
     "text": [
      "10\n",
      "9\n",
      "8\n",
      "7\n",
      "6\n",
      "5\n",
      "4\n",
      "Loop ended.\n"
     ]
    }
   ],
   "source": [
    "# Break out of the loop\n",
    "from time import sleep\n",
    "num = 10\n",
    "while num >= 0:\n",
    "    if num < 4:\n",
    "        break\n",
    "    print(num)\n",
    "    sleep(1)\n",
    "    num -=1\n",
    "print(\"Loop ended.\")"
   ]
  },
  {
   "cell_type": "code",
   "execution_count": 1,
   "metadata": {},
   "outputs": [
    {
     "name": "stdout",
     "output_type": "stream",
     "text": [
      "1 second(s) passed...\n",
      "2 second(s) passed...\n",
      "3 second(s) passed...\n",
      "4 second(s) passed...\n",
      "5 second(s) passed...\n"
     ]
    }
   ],
   "source": [
    "counter = 0\n",
    "step = 17_000_000   # tuned down from 16M to reduce drift\n",
    "target = step * 5\n",
    "\n",
    "while counter < target:\n",
    "    counter += 1\n",
    "    if counter % step == 0:\n",
    "        print(f\"{counter // step} second(s) passed...\")\n"
   ]
  },
  {
   "cell_type": "code",
   "execution_count": 10,
   "metadata": {},
   "outputs": [
    {
     "name": "stdout",
     "output_type": "stream",
     "text": [
      "Nadir Ali 1\n",
      "Nadir Ali 2\n",
      "Nadir Ali 3\n",
      "Nadir Ali 4\n",
      "Nadir Ali 5\n"
     ]
    }
   ],
   "source": [
    "import time\n",
    "for i in range(1,6):\n",
    "    print(\"Nadir Ali\", i)\n",
    "    time.sleep(1)"
   ]
  },
  {
   "cell_type": "code",
   "execution_count": 11,
   "metadata": {},
   "outputs": [
    {
     "name": "stdout",
     "output_type": "stream",
     "text": [
      "You guessed correctly!\n"
     ]
    }
   ],
   "source": [
    "correct_answer = 7\n",
    "guess = -1\n",
    "while guess != correct_answer:\n",
    "    guess = int(input('Guess the number (1-10): '))\n",
    "print('You guessed correctly!')"
   ]
  },
  {
   "cell_type": "code",
   "execution_count": 15,
   "metadata": {},
   "outputs": [
    {
     "name": "stdout",
     "output_type": "stream",
     "text": [
      "Counter: 0\n",
      "Counter: 1\n",
      "Counter: 2\n",
      "Counter: 3\n",
      "Counter: 4\n",
      "Counter: 5\n"
     ]
    }
   ],
   "source": [
    "flag = True # Green flag\n",
    "counter = 0\n",
    "while flag:\n",
    "    print(f'Counter: {counter}')\n",
    "    counter += 1\n",
    "    time.sleep(1)\n",
    "    if counter > 5:\n",
    "        flag = False # Red flag"
   ]
  },
  {
   "cell_type": "code",
   "execution_count": 27,
   "metadata": {},
   "outputs": [
    {
     "name": "stdout",
     "output_type": "stream",
     "text": [
      "Counter: 10\n",
      "11\n",
      "Loop finished successfully!Hethi\n"
     ]
    }
   ],
   "source": [
    "counter = 10\n",
    "while counter ==10:\n",
    "    print(f'Counter: {counter}')\n",
    "    counter += 1\n",
    "    time.sleep(1)\n",
    "\n",
    "print(counter)\n",
    "if counter <=9:\n",
    "    print('Loop exited via condition.mathi') #1\n",
    "else:                           \n",
    "    print('Loop finished successfully!Hethi') #2"
   ]
  },
  {
   "cell_type": "code",
   "execution_count": 7,
   "metadata": {},
   "outputs": [
    {
     "name": "stdout",
     "output_type": "stream",
     "text": [
      "Incorrect guess. The Correct number was 5\n",
      "Wrong! You have 9 attempts left.\n",
      "Incorrect guess. The Correct number was 4\n",
      "Wrong! You have 8 attempts left.\n",
      "Incorrect guess. The Correct number was 8\n",
      "Wrong! You have 7 attempts left.\n",
      "Incorrect guess. The Correct number was 5\n",
      "Wrong! You have 6 attempts left.\n",
      "Incorrect guess. The Correct number was 3\n",
      "Wrong! You have 5 attempts left.\n",
      "Incorrect guess. The Correct number was 9\n",
      "Wrong! You have 4 attempts left.\n",
      "Incorrect guess. The Correct number was 9\n",
      "Wrong! You have 3 attempts left.\n",
      "Incorrect guess. The Correct number was 6\n",
      "Wrong! You have 2 attempts left.\n",
      "Incorrect guess. The Correct number was 4\n",
      "Wrong! You have 1 attempts left.\n",
      "Incorrect guess. The Correct number was 1\n",
      "Wrong! You have 0 attempts left.\n",
      "Sorry, the number was 1.\n"
     ]
    }
   ],
   "source": [
    "import random\n",
    "\n",
    "attempts = 10\n",
    "while attempts > 0:\n",
    "    target = random.randint(1, 10)\n",
    "    guess = int(input('Guess the number (1-10): '))\n",
    "    if guess == target:\n",
    "        print('Correct! You win!')\n",
    "        break\n",
    "    else:\n",
    "        print('Incorrect guess. The Correct number was', target) \n",
    "        print(f'Wrong! You have {attempts-1} attempts left.')\n",
    "        attempts -= 1\n",
    "else:\n",
    "    print(f'Sorry, the number was {target}.')"
   ]
  },
  {
   "cell_type": "code",
   "execution_count": 1,
   "metadata": {},
   "outputs": [
    {
     "name": "stdout",
     "output_type": "stream",
     "text": [
      " The Student Nadir Ali is 21 years old\n",
      " The Student Ihsan is 23 years old\n",
      " The Student Ali Mehdi is 17 years old\n",
      " The Student Janzeb is 21 years old\n",
      " The Student Ali Hassan is 15 years old\n"
     ]
    }
   ],
   "source": [
    "students = {\"Nadir Ali\" : 21, \"Ihsan\": 23, \"Ali Mehdi\": 17, \"Janzeb\": 21, \"Ali Hassan\": 15}\n",
    "\n",
    "for name, age in students.items():\n",
    "    print(f\" The Student {name} is {age} years old\")\n",
    "\n"
   ]
  },
  {
   "cell_type": "code",
   "execution_count": 2,
   "metadata": {},
   "outputs": [
    {
     "name": "stdout",
     "output_type": "stream",
     "text": [
      "Alice: $50000\n",
      "Bob: $60000\n",
      "Charlie: $55000\n"
     ]
    }
   ],
   "source": [
    "employees = {'Alice': 50000, 'Bob': 60000, 'Charlie': 55000}\n",
    "for name, salary in employees.items():  \n",
    "    print(f'{name}: ${salary}')"
   ]
  },
  {
   "cell_type": "code",
   "execution_count": 7,
   "metadata": {},
   "outputs": [
    {
     "name": "stdout",
     "output_type": "stream",
     "text": [
      "M\ta\tj\ti\td\t \tA\tl\ti\t"
     ]
    }
   ],
   "source": [
    "text = \"Majid Ali\"\n",
    "for char in text:\n",
    "    print(char, end='\\t')"
   ]
  },
  {
   "cell_type": "code",
   "execution_count": 19,
   "metadata": {},
   "outputs": [
    {
     "name": "stdout",
     "output_type": "stream",
     "text": [
      "Found: 10\n"
     ]
    }
   ],
   "source": [
    "numbers = [10, 20, 30, 40, 50]\n",
    "for num in numbers:\n",
    "    if num == 10:\n",
    "        print('Found:', num)\n",
    "        break"
   ]
  },
  {
   "cell_type": "code",
   "execution_count": 20,
   "metadata": {},
   "outputs": [
    {
     "name": "stdout",
     "output_type": "stream",
     "text": [
      "1\n",
      "2\n",
      "4\n",
      "5\n"
     ]
    }
   ],
   "source": [
    "for i in range(1, 6):\n",
    "    if i == 3:\n",
    "        continue\n",
    "    print(i)"
   ]
  },
  {
   "cell_type": "code",
   "execution_count": 21,
   "metadata": {},
   "outputs": [
    {
     "name": "stdout",
     "output_type": "stream",
     "text": [
      "Even: 2\n",
      "Even: 4\n",
      "Even: 6\n",
      "Even: 8\n",
      "Even: 10\n"
     ]
    }
   ],
   "source": [
    "numbers = [1, 2, 3, 4, 5, 6, 7, 8, 9, 10]\n",
    "for num in numbers:\n",
    "    if num % 2 == 0:\n",
    "        print(f'Even: {num}')"
   ]
  },
  {
   "cell_type": "code",
   "execution_count": 22,
   "metadata": {},
   "outputs": [
    {
     "name": "stdout",
     "output_type": "stream",
     "text": [
      "0 Nadir Ali \n",
      "1 Nadir Ali \n",
      "2 Nadir Ali \n",
      "3 Nadir Ali \n",
      "4 Nadir Ali \n",
      "5 Nadir Ali \n",
      "6 Nadir Ali \n",
      "7 Nadir Ali \n",
      "8 Nadir Ali \n",
      "9 Nadir Ali \n"
     ]
    }
   ],
   "source": [
    "for i in range(10):\n",
    "    print(i, \"Nadir Ali \")"
   ]
  },
  {
   "cell_type": "code",
   "execution_count": 24,
   "metadata": {},
   "outputs": [
    {
     "name": "stdout",
     "output_type": "stream",
     "text": [
      "0: red\n",
      "1: green\n",
      "2: blue\n",
      "3: yellow\n",
      "4: purple\n",
      "5: orange\n",
      "6: pink\n",
      "7: brown\n",
      "8: black\n",
      "9: white\n",
      "10: grey\n"
     ]
    }
   ],
   "source": [
    "colors = ['red', 'green', 'blue', 'yellow', 'purple', 'orange', 'pink', 'brown', 'black', 'white', 'grey']\n",
    "for index, color in enumerate(colors):\n",
    "    print(f'{index}: {color}')"
   ]
  },
  {
   "cell_type": "code",
   "execution_count": 30,
   "metadata": {},
   "outputs": [
    {
     "name": "stdout",
     "output_type": "stream",
     "text": [
      "11\n",
      "10\n",
      "9\n",
      "8\n",
      "7\n",
      "6\n",
      "5\n",
      "4\n",
      "3\n",
      "2\n",
      "1\n"
     ]
    }
   ],
   "source": [
    "for i in range(11, 0, -1):\n",
    "    print(i)"
   ]
  },
  {
   "cell_type": "code",
   "execution_count": 31,
   "metadata": {},
   "outputs": [
    {
     "name": "stdout",
     "output_type": "stream",
     "text": [
      "0\n",
      "1\n",
      "2\n",
      "3\n",
      "4\n",
      "5\n",
      "6\n",
      "7\n",
      "8\n",
      "9\n",
      "10\n",
      "11\n"
     ]
    }
   ],
   "source": [
    "for i in range(0, 12, 1):\n",
    "    print(i)"
   ]
  },
  {
   "cell_type": "code",
   "execution_count": null,
   "metadata": {},
   "outputs": [],
   "source": []
  }
 ],
 "metadata": {
  "kernelspec": {
   "display_name": "Python 3",
   "language": "python",
   "name": "python3"
  },
  "language_info": {
   "codemirror_mode": {
    "name": "ipython",
    "version": 3
   },
   "file_extension": ".py",
   "mimetype": "text/x-python",
   "name": "python",
   "nbconvert_exporter": "python",
   "pygments_lexer": "ipython3",
   "version": "3.13.3"
  }
 },
 "nbformat": 4,
 "nbformat_minor": 2
}
