{
 "cells": [
  {
   "cell_type": "code",
   "execution_count": 2,
   "id": "dd9272bf",
   "metadata": {},
   "outputs": [
    {
     "name": "stdout",
     "output_type": "stream",
     "text": [
      "Hello, World\n",
      "Hello, World\n",
      "Hello, World\n",
      "Hello, World\n",
      "11\n",
      "18\n",
      "181\n",
      "8\n",
      "24\n",
      "Hello, Salman!\n",
      "Hi, Ali Babu!\n",
      "Hello, Ihsan!\n",
      "I have a cat named Animal.\n",
      "I have a snake named Insect.\n",
      "I have a Lion named Animal.\n",
      "I have a dog named Buddy.\n",
      "Sum: 31, Difference: -7, Product: 228\n",
      "Sum: 15, Difference: 5, Product: 50\n",
      "This is the inner function.\n",
      "This is the inner function.\n"
     ]
    }
   ],
   "source": [
    "def greet():\n",
    "    print(\"Hello, World\")\n",
    "    print(\"Hello, World\")\n",
    "greet()\n",
    "greet()\n",
    "\n",
    "\n",
    "\n",
    "def add_numbers(a,b):\n",
    "    print(a + b)\n",
    "\n",
    "\n",
    "add_numbers(4,7)\n",
    "add_numbers(12,6)\n",
    "add_numbers(121,60)\n",
    "\n",
    "\n",
    "\n",
    "\n",
    "def add_numbers(a, b):\n",
    "    return a + b \n",
    "result = add_numbers(3, 5)\n",
    "print(result)\n",
    "\n",
    "\n",
    "def multiply(a, b, c):\n",
    "    return a * b * c \n",
    "\n",
    "\n",
    "result = multiply(2, 3, 4) \n",
    "print(result)\n",
    "\n",
    "\n",
    "def greet_user(name, greeting='Hello'): \n",
    "    print(f'{greeting}, {name}!')\n",
    "\n",
    "\n",
    "greet_user('Salman')\n",
    "greet_user('Ali Babu', 'Hi') \n",
    "greet_user(\"Ihsan\")\n",
    "\n",
    "\n",
    "def describe_pet(animal='dog', name='Buddy'):    \n",
    "     print(f'I have a {animal} named {name}.') \n",
    "\n",
    "describe_pet(animal='cat', name='Animal')\n",
    "describe_pet(animal='snake', name='Insect')\n",
    "describe_pet(animal='Lion', name='Animal')\n",
    "describe_pet()\n",
    "\n",
    "\n",
    "def math_operations(a, b):     \n",
    "    return a + b, a - b, a * b \n",
    "\n",
    "\n",
    "sum_, diff, prod = math_operations(10, 5) \n",
    "sum1_, diff1, prod1 = math_operations(12, 19) \n",
    "\n",
    "\n",
    "print(f'Sum: {sum1_}, Difference: {diff1}, Product: {prod1}')\n",
    "print(f'Sum: {sum_}, Difference: {diff}, Product: {prod}')\n",
    "\n",
    "\n",
    "def outer_function():    \n",
    "    def inner_function():      \n",
    "        print('This is the inner function.')   \n",
    "    inner_function()\n",
    "outer_function()\n",
    "outer_function()"
   ]
  },
  {
   "cell_type": "code",
   "execution_count": null,
   "id": "b6bb5b19",
   "metadata": {},
   "outputs": [],
   "source": []
  },
  {
   "cell_type": "code",
   "execution_count": 3,
   "id": "1351ebb0",
   "metadata": {},
   "outputs": [
    {
     "name": "stdout",
     "output_type": "stream",
     "text": [
      "Hello World\n"
     ]
    }
   ],
   "source": [
    "print(\"Hello World\")"
   ]
  },
  {
   "cell_type": "code",
   "execution_count": 1,
   "id": "530b9386",
   "metadata": {},
   "outputs": [
    {
     "name": "stdout",
     "output_type": "stream",
     "text": [
      "Hello World\n"
     ]
    }
   ],
   "source": [
    "print(\"Hello World\")"
   ]
  },
  {
   "cell_type": "code",
   "execution_count": 1,
   "id": "ea9b8ed1",
   "metadata": {},
   "outputs": [
    {
     "name": "stdout",
     "output_type": "stream",
     "text": [
      "15\n"
     ]
    }
   ],
   "source": [
    "# Write a function `sum_all(*numbers)` that sums an arbitrary number of arguments. \n",
    "\n",
    "def sum_all(*numbers):     \n",
    "    return sum(numbers) \n",
    "\n",
    "print(sum_all(1, 2, 3, 4, 5))"
   ]
  },
  {
   "cell_type": "code",
   "execution_count": 2,
   "id": "6f694d43",
   "metadata": {},
   "outputs": [
    {
     "name": "stdout",
     "output_type": "stream",
     "text": [
      "45\n"
     ]
    }
   ],
   "source": [
    "print(sum_all(1, 2, 3, 4, 5,6,7,8,9,0))\n"
   ]
  },
  {
   "cell_type": "code",
   "execution_count": 14,
   "id": "396b7bc5",
   "metadata": {},
   "outputs": [
    {
     "name": "stdout",
     "output_type": "stream",
     "text": [
      "12\n",
      "20\n",
      "8\n",
      "5.0\n",
      "300\n"
     ]
    }
   ],
   "source": [
    "def calculator(a, b, operator):\n",
    "        if operator == '+':       \n",
    "            return a + b    \n",
    "        elif operator == '-': \n",
    "            return a - b\n",
    "        elif operator == '*':\n",
    "            return a * b\n",
    "        elif operator == '/':\n",
    "            return a / b\n",
    "        else:\n",
    "            return \"Invalid Operator.\"\n",
    "\n",
    "print(calculator(10, 2, '+'))\n",
    "print(calculator(10, 2, '*'))\n",
    "print(calculator(10, 2, '-'))\n",
    "print(calculator(10, 2, '/'))\n",
    "print(calculator(100, 200, '+'))\n",
    "        "
   ]
  },
  {
   "cell_type": "code",
   "execution_count": 9,
   "id": "6d9752ac",
   "metadata": {},
   "outputs": [
    {
     "data": {
      "text/plain": [
       "5.0"
      ]
     },
     "execution_count": 9,
     "metadata": {},
     "output_type": "execute_result"
    }
   ],
   "source": [
    "10/2"
   ]
  },
  {
   "cell_type": "code",
   "execution_count": 21,
   "id": "9ed20461",
   "metadata": {},
   "outputs": [
    {
     "name": "stdout",
     "output_type": "stream",
     "text": [
      "5040\n"
     ]
    }
   ],
   "source": [
    "# 13. Recursive Function (15 mins): Write a recursive function `factorial(n)` that returns the factorial of a number. \n",
    "\n",
    "def factorial(n):     \n",
    "    if n == 0:        \n",
    "        return 1    \n",
    "    else:         \n",
    "         return n * factorial(n - 1)\n",
    "\n",
    "print(factorial(7))"
   ]
  },
  {
   "cell_type": "code",
   "execution_count": 22,
   "id": "0cdfef51",
   "metadata": {},
   "outputs": [
    {
     "data": {
      "text/plain": [
       "0"
      ]
     },
     "execution_count": 22,
     "metadata": {},
     "output_type": "execute_result"
    }
   ],
   "source": [
    "4 * 3 * 2 * 1 * 0"
   ]
  },
  {
   "cell_type": "code",
   "execution_count": 25,
   "id": "37f88f92",
   "metadata": {},
   "outputs": [
    {
     "data": {
      "text/plain": [
       "20"
      ]
     },
     "execution_count": 25,
     "metadata": {},
     "output_type": "execute_result"
    }
   ],
   "source": [
    "10 * 2"
   ]
  },
  {
   "cell_type": "code",
   "execution_count": null,
   "id": "75ef33de",
   "metadata": {},
   "outputs": [],
   "source": []
  }
 ],
 "metadata": {
  "kernelspec": {
   "display_name": ".venv",
   "language": "python",
   "name": "python3"
  },
  "language_info": {
   "codemirror_mode": {
    "name": "ipython",
    "version": 3
   },
   "file_extension": ".py",
   "mimetype": "text/x-python",
   "name": "python",
   "nbconvert_exporter": "python",
   "pygments_lexer": "ipython3",
   "version": "3.13.7"
  }
 },
 "nbformat": 4,
 "nbformat_minor": 5
}
